{
  "nbformat": 4,
  "nbformat_minor": 0,
  "metadata": {
    "colab": {
      "name": "AirbnbValuator.ipynb",
      "provenance": [],
      "collapsed_sections": [],
      "include_colab_link": true
    },
    "kernelspec": {
      "name": "python3",
      "display_name": "Python 3"
    }
  },
  "cells": [
    {
      "cell_type": "markdown",
      "metadata": {
        "id": "view-in-github",
        "colab_type": "text"
      },
      "source": [
        "<a href=\"https://colab.research.google.com/github/sumanthd17/Airbnb-Valuator/blob/master/AirbnbValuator.ipynb\" target=\"_parent\"><img src=\"https://colab.research.google.com/assets/colab-badge.svg\" alt=\"Open In Colab\"/></a>"
      ]
    },
    {
      "cell_type": "code",
      "metadata": {
        "id": "k5t95AVtRux2",
        "colab_type": "code",
        "colab": {}
      },
      "source": [
        "# Imports\n",
        "import numpy as np\n",
        "import pandas as pd\n",
        "import matplotlib.pyplot as plt\n",
        "import seaborn as sns"
      ],
      "execution_count": 0,
      "outputs": []
    },
    {
      "cell_type": "code",
      "metadata": {
        "id": "c4vIeX0fUCk7",
        "colab_type": "code",
        "colab": {
          "base_uri": "https://localhost:8080/",
          "height": 54
        },
        "outputId": "fca4592a-a325-4601-d390-17f0ad182622"
      },
      "source": [
        "from google.colab import drive\n",
        "drive.mount('/content/drive')"
      ],
      "execution_count": 45,
      "outputs": [
        {
          "output_type": "stream",
          "text": [
            "Drive already mounted at /content/drive; to attempt to forcibly remount, call drive.mount(\"/content/drive\", force_remount=True).\n"
          ],
          "name": "stdout"
        }
      ]
    },
    {
      "cell_type": "code",
      "metadata": {
        "id": "4zoTbiFoSeWn",
        "colab_type": "code",
        "colab": {
          "base_uri": "https://localhost:8080/",
          "height": 340
        },
        "outputId": "bce2411d-ac41-4caa-bdd1-d49c69cc469b"
      },
      "source": [
        "path = '/content/drive/My Drive/AB_NYC_2019.csv'\n",
        "data = pd.read_csv(path)\n",
        "data.head()\n",
        "\n",
        "print('samples: {}'.format(data.shape[0]))\n",
        "print('Features: {}'.format(data.shape[1]))\n",
        "data.dtypes"
      ],
      "execution_count": 46,
      "outputs": [
        {
          "output_type": "stream",
          "text": [
            "samples: 48895\n",
            "Features: 16\n"
          ],
          "name": "stdout"
        },
        {
          "output_type": "execute_result",
          "data": {
            "text/plain": [
              "id                                  int64\n",
              "name                               object\n",
              "host_id                             int64\n",
              "host_name                          object\n",
              "neighbourhood_group                object\n",
              "neighbourhood                      object\n",
              "latitude                          float64\n",
              "longitude                         float64\n",
              "room_type                          object\n",
              "price                               int64\n",
              "minimum_nights                      int64\n",
              "number_of_reviews                   int64\n",
              "last_review                        object\n",
              "reviews_per_month                 float64\n",
              "calculated_host_listings_count      int64\n",
              "availability_365                    int64\n",
              "dtype: object"
            ]
          },
          "metadata": {
            "tags": []
          },
          "execution_count": 46
        }
      ]
    },
    {
      "cell_type": "code",
      "metadata": {
        "id": "ao4wOj-PVfPo",
        "colab_type": "code",
        "colab": {}
      },
      "source": [
        "data['last_review'] = pd.to_datetime(data['last_review'],infer_datetime_format=True) "
      ],
      "execution_count": 0,
      "outputs": []
    },
    {
      "cell_type": "markdown",
      "metadata": {
        "id": "CWpAXzigVyRF",
        "colab_type": "text"
      },
      "source": [
        "# Preprocessing the Data\n"
      ]
    },
    {
      "cell_type": "code",
      "metadata": {
        "id": "rafRmdZBVxuV",
        "colab_type": "code",
        "colab": {
          "base_uri": "https://localhost:8080/",
          "height": 545
        },
        "outputId": "3303d249-65b5-459a-8a28-12e0e5a78762"
      },
      "source": [
        "total = data.isnull().sum().sort_values(ascending=False)\n",
        "percent = data.isnull().sum() / total\n",
        "missing_data = pd.concat([total, percent], axis=1, keys=['Total', '%'], sort=False)\n",
        "missing_data"
      ],
      "execution_count": 48,
      "outputs": [
        {
          "output_type": "execute_result",
          "data": {
            "text/html": [
              "<div>\n",
              "<style scoped>\n",
              "    .dataframe tbody tr th:only-of-type {\n",
              "        vertical-align: middle;\n",
              "    }\n",
              "\n",
              "    .dataframe tbody tr th {\n",
              "        vertical-align: top;\n",
              "    }\n",
              "\n",
              "    .dataframe thead th {\n",
              "        text-align: right;\n",
              "    }\n",
              "</style>\n",
              "<table border=\"1\" class=\"dataframe\">\n",
              "  <thead>\n",
              "    <tr style=\"text-align: right;\">\n",
              "      <th></th>\n",
              "      <th>Total</th>\n",
              "      <th>%</th>\n",
              "    </tr>\n",
              "  </thead>\n",
              "  <tbody>\n",
              "    <tr>\n",
              "      <th>reviews_per_month</th>\n",
              "      <td>10052</td>\n",
              "      <td>1.0</td>\n",
              "    </tr>\n",
              "    <tr>\n",
              "      <th>last_review</th>\n",
              "      <td>10052</td>\n",
              "      <td>1.0</td>\n",
              "    </tr>\n",
              "    <tr>\n",
              "      <th>host_name</th>\n",
              "      <td>21</td>\n",
              "      <td>1.0</td>\n",
              "    </tr>\n",
              "    <tr>\n",
              "      <th>name</th>\n",
              "      <td>16</td>\n",
              "      <td>1.0</td>\n",
              "    </tr>\n",
              "    <tr>\n",
              "      <th>availability_365</th>\n",
              "      <td>0</td>\n",
              "      <td>NaN</td>\n",
              "    </tr>\n",
              "    <tr>\n",
              "      <th>calculated_host_listings_count</th>\n",
              "      <td>0</td>\n",
              "      <td>NaN</td>\n",
              "    </tr>\n",
              "    <tr>\n",
              "      <th>number_of_reviews</th>\n",
              "      <td>0</td>\n",
              "      <td>NaN</td>\n",
              "    </tr>\n",
              "    <tr>\n",
              "      <th>minimum_nights</th>\n",
              "      <td>0</td>\n",
              "      <td>NaN</td>\n",
              "    </tr>\n",
              "    <tr>\n",
              "      <th>price</th>\n",
              "      <td>0</td>\n",
              "      <td>NaN</td>\n",
              "    </tr>\n",
              "    <tr>\n",
              "      <th>room_type</th>\n",
              "      <td>0</td>\n",
              "      <td>NaN</td>\n",
              "    </tr>\n",
              "    <tr>\n",
              "      <th>longitude</th>\n",
              "      <td>0</td>\n",
              "      <td>NaN</td>\n",
              "    </tr>\n",
              "    <tr>\n",
              "      <th>latitude</th>\n",
              "      <td>0</td>\n",
              "      <td>NaN</td>\n",
              "    </tr>\n",
              "    <tr>\n",
              "      <th>neighbourhood</th>\n",
              "      <td>0</td>\n",
              "      <td>NaN</td>\n",
              "    </tr>\n",
              "    <tr>\n",
              "      <th>neighbourhood_group</th>\n",
              "      <td>0</td>\n",
              "      <td>NaN</td>\n",
              "    </tr>\n",
              "    <tr>\n",
              "      <th>host_id</th>\n",
              "      <td>0</td>\n",
              "      <td>NaN</td>\n",
              "    </tr>\n",
              "    <tr>\n",
              "      <th>id</th>\n",
              "      <td>0</td>\n",
              "      <td>NaN</td>\n",
              "    </tr>\n",
              "  </tbody>\n",
              "</table>\n",
              "</div>"
            ],
            "text/plain": [
              "                                Total    %\n",
              "reviews_per_month               10052  1.0\n",
              "last_review                     10052  1.0\n",
              "host_name                          21  1.0\n",
              "name                               16  1.0\n",
              "availability_365                    0  NaN\n",
              "calculated_host_listings_count      0  NaN\n",
              "number_of_reviews                   0  NaN\n",
              "minimum_nights                      0  NaN\n",
              "price                               0  NaN\n",
              "room_type                           0  NaN\n",
              "longitude                           0  NaN\n",
              "latitude                            0  NaN\n",
              "neighbourhood                       0  NaN\n",
              "neighbourhood_group                 0  NaN\n",
              "host_id                             0  NaN\n",
              "id                                  0  NaN"
            ]
          },
          "metadata": {
            "tags": []
          },
          "execution_count": 48
        }
      ]
    },
    {
      "cell_type": "code",
      "metadata": {
        "id": "3PgFkfVdXBeW",
        "colab_type": "code",
        "colab": {}
      },
      "source": [
        "data.drop(['host_name', 'name'], axis=1, inplace=True)"
      ],
      "execution_count": 0,
      "outputs": []
    },
    {
      "cell_type": "code",
      "metadata": {
        "id": "rvXJP9c-XbOV",
        "colab_type": "code",
        "colab": {}
      },
      "source": [
        "# data[data['number_of_reviews']==0].shape\n",
        "data['reviews_per_month'] = data['reviews_per_month'].fillna(0)"
      ],
      "execution_count": 0,
      "outputs": []
    },
    {
      "cell_type": "code",
      "metadata": {
        "id": "zGkddxmVXvmA",
        "colab_type": "code",
        "colab": {}
      },
      "source": [
        "earliest_review = min(data['last_review'])\n",
        "data['last_review'] = data['last_review'].fillna(earliest_review)\n",
        "data['last_review'] = data['last_review'].apply(lambda x: x.toordinal() - earliest_review.toordinal())"
      ],
      "execution_count": 0,
      "outputs": []
    },
    {
      "cell_type": "markdown",
      "metadata": {
        "id": "OukldD2NYsG4",
        "colab_type": "text"
      },
      "source": [
        "# Check Distributions"
      ]
    },
    {
      "cell_type": "code",
      "metadata": {
        "id": "J82U_NGvYP2U",
        "colab_type": "code",
        "colab": {
          "base_uri": "https://localhost:8080/",
          "height": 102
        },
        "outputId": "a0116e4f-3dc9-410a-83a0-e3602a5e8c1f"
      },
      "source": [
        "data.columns"
      ],
      "execution_count": 52,
      "outputs": [
        {
          "output_type": "execute_result",
          "data": {
            "text/plain": [
              "Index(['id', 'host_id', 'neighbourhood_group', 'neighbourhood', 'latitude',\n",
              "       'longitude', 'room_type', 'price', 'minimum_nights',\n",
              "       'number_of_reviews', 'last_review', 'reviews_per_month',\n",
              "       'calculated_host_listings_count', 'availability_365'],\n",
              "      dtype='object')"
            ]
          },
          "metadata": {
            "tags": []
          },
          "execution_count": 52
        }
      ]
    },
    {
      "cell_type": "code",
      "metadata": {
        "id": "IlZPIqSCYPga",
        "colab_type": "code",
        "colab": {}
      },
      "source": [
        "# dropping host_id and id\n",
        "data = data.drop(['host_id', 'id'], axis=1)"
      ],
      "execution_count": 0,
      "outputs": []
    },
    {
      "cell_type": "code",
      "metadata": {
        "id": "YgyCTqumZCMS",
        "colab_type": "code",
        "colab": {
          "base_uri": "https://localhost:8080/",
          "height": 308
        },
        "outputId": "98639cbb-6170-4c19-804b-fec1c9d0c6a9"
      },
      "source": [
        "# Distribution of room types\n",
        "sns.catplot(x='room_type', kind='count', data=data)\n",
        "fig = plt.gcf()\n",
        "fig.set_size_inches(6, 4)"
      ],
      "execution_count": 54,
      "outputs": [
        {
          "output_type": "display_data",
          "data": {
            "image/png": "[encoded data removed]",
            "text/plain": [
              "<Figure size 432x288 with 1 Axes>"
            ]
          },
          "metadata": {
            "tags": []
          }
        }
      ]
    },
    {
      "cell_type": "code",
      "metadata": {
        "id": "bJqbdeRXZcRj",
        "colab_type": "code",
        "colab": {
          "base_uri": "https://localhost:8080/",
          "height": 308
        },
        "outputId": "cacca46a-3ebe-4ec9-eed3-6d427f25c54a"
      },
      "source": [
        "# neighbourhood distribution\n",
        "\n",
        "sns.catplot(x='neighbourhood_group', kind='count', data=data)\n",
        "fig = plt.gcf()\n",
        "fig.set_size_inches(6, 4)"
      ],
      "execution_count": 60,
      "outputs": [
        {
          "output_type": "display_data",
          "data": {
            "image/png": "[encoded data removed]",
            "text/plain": [
              "<Figure size 432x288 with 1 Axes>"
            ]
          },
          "metadata": {
            "tags": []
          }
        }
      ]
    },
    {
      "cell_type": "code",
      "metadata": {
        "id": "wYti6pBWcUij",
        "colab_type": "code",
        "colab": {
          "base_uri": "https://localhost:8080/",
          "height": 451
        },
        "outputId": "9ff83854-c11e-4f03-d649-9000afff058e"
      },
      "source": [
        "# neighbourhood distribution\n",
        "\n",
        "sns.catplot(x='neighbourhood', kind='count', data=data)\n",
        "fig = plt.gcf()\n",
        "fig.set_size_inches(18, 6)"
      ],
      "execution_count": 62,
      "outputs": [
        {
          "output_type": "display_data",
          "data": {
            "image/png": "[encoded data removed]",
            "text/plain": [
              "<Figure size 1296x432 with 1 Axes>"
            ]
          },
          "metadata": {
            "tags": []
          }
        }
      ]
    },
    {
      "cell_type": "code",
      "metadata": {
        "id": "L63XWT-nZ8y2",
        "colab_type": "code",
        "colab": {
          "base_uri": "https://localhost:8080/",
          "height": 427
        },
        "outputId": "c9408c60-abcb-4dd8-f34a-8415277e8620"
      },
      "source": [
        "# Availability Distribution\n",
        "\n",
        "fig, axes = plt.subplots(1,1,figsize=(18.5, 6))\n",
        "sns.distplot(data['availability_365'], rug=False, kde=False, color=\"blue\", ax=axes)\n",
        "axes.set_xlabel('availability_365')\n",
        "axes.set_xlim(0, 365)"
      ],
      "execution_count": 64,
      "outputs": [
        {
          "output_type": "execute_result",
          "data": {
            "text/plain": [
              "(0, 365)"
            ]
          },
          "metadata": {
            "tags": []
          },
          "execution_count": 64
        },
        {
          "output_type": "display_data",
          "data": {
            "image/png": "[encoded data removed]",
            "text/plain": [
              "<Figure size 1332x432 with 1 Axes>"
            ]
          },
          "metadata": {
            "tags": []
          }
        }
      ]
    },
    {
      "cell_type": "code",
      "metadata": {
        "id": "4svZfYB7aojf",
        "colab_type": "code",
        "colab": {}
      },
      "source": [
        "# changing thresholds\n",
        "\n",
        "data['all_year_available'] = data['availability_365'] > 350\n",
        "data['low_availability'] = data['availability_365'] < 15\n",
        "data['no_reviews'] = data['reviews_per_month'] == 0"
      ],
      "execution_count": 0,
      "outputs": []
    },
    {
      "cell_type": "code",
      "metadata": {
        "id": "FSG5gXRoczUA",
        "colab_type": "code",
        "colab": {
          "base_uri": "https://localhost:8080/",
          "height": 827
        },
        "outputId": "caf30715-4912-44a6-85b9-513c21279c09"
      },
      "source": [
        "# Correlation Matrix\n",
        "\n",
        "correlation = data.corr()\n",
        "f, ax = plt.subplots(figsize=(15,12))\n",
        "sns.heatmap(correlation, vmax=0.8, square=True)\n",
        "sns.set(font_scale=0.8)"
      ],
      "execution_count": 66,
      "outputs": [
        {
          "output_type": "display_data",
          "data": {
            "image/png": "[encoded data removed]",
            "text/plain": [
              "<Figure size 1080x864 with 2 Axes>"
            ]
          },
          "metadata": {
            "tags": []
          }
        }
      ]
    },
    {
      "cell_type": "markdown",
      "metadata": {
        "id": "kJXolvZTdfHK",
        "colab_type": "text"
      },
      "source": [
        "No strong correlation between the values"
      ]
    },
    {
      "cell_type": "code",
      "metadata": {
        "id": "KLdOifGgdnty",
        "colab_type": "code",
        "colab": {}
      },
      "source": [
        ""
      ],
      "execution_count": 0,
      "outputs": []
    },
    {
      "cell_type": "code",
      "metadata": {
        "id": "ITmxNsTISpDv",
        "colab_type": "code",
        "colab": {
          "base_uri": "https://localhost:8080/",
          "height": 272
        },
        "outputId": "5f9d8896-ddc3-4f4b-eea8-965c6cde922f"
      },
      "source": [
        "data.head()\n",
        "data.dtypes"
      ],
      "execution_count": 25,
      "outputs": [
        {
          "output_type": "execute_result",
          "data": {
            "text/plain": [
              "id                                         int64\n",
              "host_id                                    int64\n",
              "neighbourhood_group                       object\n",
              "neighbourhood                             object\n",
              "latitude                                 float64\n",
              "longitude                                float64\n",
              "room_type                                 object\n",
              "price                                      int64\n",
              "minimum_nights                             int64\n",
              "number_of_reviews                          int64\n",
              "last_review                       datetime64[ns]\n",
              "reviews_per_month                        float64\n",
              "calculated_host_listings_count             int64\n",
              "availability_365                           int64\n",
              "dtype: object"
            ]
          },
          "metadata": {
            "tags": []
          },
          "execution_count": 25
        }
      ]
    },
    {
      "cell_type": "code",
      "metadata": {
        "id": "pgqVfvDNUsYm",
        "colab_type": "code",
        "colab": {}
      },
      "source": [
        ""
      ],
      "execution_count": 0,
      "outputs": []
    }
  ]
}